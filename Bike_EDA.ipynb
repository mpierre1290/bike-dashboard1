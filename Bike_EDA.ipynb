{
 "cells": [
  {
   "cell_type": "code",
   "execution_count": null,
   "metadata": {},
   "outputs": [],
   "source": [
    "import plotly.graph_objects as go\n",
    "import pandas as pd \n",
    "import numpy as np\n",
    "import matplotlib.pyplot as plt\n",
    "import matplotlib\n",
    "import seaborn as sns\n",
    "import random\n",
    "import os\n",
    "from wordcloud import WordCloud\n",
    "from plotly.offline import init_notebook_mode, iplot\n",
    "from PIL import Image\n",
    "import os"
   ]
  },
  {
   "cell_type": "code",
   "execution_count": null,
   "metadata": {},
   "outputs": [],
   "source": [
    "pwd = os.getcwd()\n",
    "list1 = pwd + '\\Customer List.csv'\n",
    "adress1 = pwd + '\\customer_adress_modified.csv'\n",
    "demo1 = pwd + '\\Customer_Demographic.csv'\n",
    "trans1 = pwd + '\\Transactions.csv'\n",
    "#when you get a unicode error try to set encoding errors to :encoding_errors=\"ignore\", encoding=\"ascii\" this happens when theres a bunch of extra columns \n",
    "list = pd.read_csv(list1)\n",
    "adress = pd.read_csv(adress1)\n",
    "demo = pd.read_csv(demo1, encoding_errors=\"ignore\", encoding=\"ascii\")\n",
    "trans = pd.read_csv(trans1)\n"
   ]
  },
  {
   "cell_type": "code",
   "execution_count": null,
   "metadata": {},
   "outputs": [],
   "source": [
    "#theres alot of null columns in the 'demo' dataframe, so lets only take what we need\n",
    "demo_mod = demo[demo.columns[:13]]\n",
    "list_mod = list[['first_name', 'last_name', 'gender',\n",
    "       'past_3_years_bike_related_purchases', 'DOB', 'job_title',\n",
    "       'job_industry_category', 'wealth_segment', 'deceased_indicator',\n",
    "       'owns_car', 'tenure', 'address', 'postcode', 'state', 'country',\n",
    "       'property_valuation', 'Rank', 'Value']]\n",
    "trans_mod = trans[trans.columns[:13]]"
   ]
  },
  {
   "cell_type": "code",
   "execution_count": null,
   "metadata": {},
   "outputs": [],
   "source": [
    "#looking for nulls\n",
    "for i in adress.columns:\n",
    "    null_rate = adress[i].isna().sum() / len(adress) * 100 \n",
    "if null_rate >= 0 :\n",
    "    print(\"{} null rate: {}%\".format(i,round(null_rate,2)))"
   ]
  },
  {
   "cell_type": "code",
   "execution_count": null,
   "metadata": {},
   "outputs": [],
   "source": [
    "#looking for nulls\n",
    "for i in demo_mod.columns:\n",
    "    null_rate = demo_mod[i].isna().sum() / len(demo_mod) * 100 \n",
    "if null_rate >= 0 :\n",
    "    print(\"{} null rate: {}%\".format(i,round(null_rate,2)))"
   ]
  },
  {
   "cell_type": "code",
   "execution_count": null,
   "metadata": {},
   "outputs": [],
   "source": [
    "demo_mod = demo_mod.dropna(axis=0, how='any')"
   ]
  },
  {
   "cell_type": "code",
   "execution_count": null,
   "metadata": {},
   "outputs": [],
   "source": [
    "#looking for nulls\n",
    "for i in demo_mod.columns:\n",
    "    null_rate = demo_mod[i].isna().sum() / len(demo_mod) * 100 \n",
    "if null_rate >= 0 :\n",
    "    print(\"{} null rate: {}%\".format(i,round(null_rate,2)))"
   ]
  },
  {
   "cell_type": "code",
   "execution_count": null,
   "metadata": {},
   "outputs": [],
   "source": [
    "#looking for nulls\n",
    "for i in list_mod.columns:\n",
    "    null_rate = list_mod[i].isna().sum() / len(list_mod) * 100 \n",
    "if null_rate >= 0 :\n",
    "    print(\"{} null rate: {}%\".format(i,round(null_rate,2)))"
   ]
  },
  {
   "cell_type": "code",
   "execution_count": null,
   "metadata": {},
   "outputs": [],
   "source": [
    "#looking for nulls, found em\n",
    "for i in trans_mod.columns:\n",
    "    null_rate = trans_mod[i].isna().sum() / len(trans_mod) * 100 \n",
    "if null_rate >= 0 :\n",
    "    print(\"{} null rate: {}%\".format(i,round(null_rate,2)))"
   ]
  },
  {
   "cell_type": "code",
   "execution_count": null,
   "metadata": {},
   "outputs": [],
   "source": [
    "trans_mod = trans_mod.dropna(axis=0, how='any')"
   ]
  },
  {
   "cell_type": "code",
   "execution_count": null,
   "metadata": {},
   "outputs": [],
   "source": [
    "for i in trans_mod.columns:\n",
    "    null_rate = trans_mod[i].isna().sum() / len(trans_mod) * 100 \n",
    "if null_rate >= 0 :\n",
    "    print(\"{} null rate: {}%\".format(i,round(null_rate,2)))"
   ]
  },
  {
   "cell_type": "code",
   "execution_count": null,
   "metadata": {},
   "outputs": [],
   "source": [
    "#changing datatype to datetime\n",
    "trans_mod['transaction_date'] = trans_mod['transaction_date'].astype('datetime64')"
   ]
  },
  {
   "cell_type": "code",
   "execution_count": null,
   "metadata": {},
   "outputs": [],
   "source": [
    "#changing 'online_order' to bool\n",
    "trans_mod['online_order'] = trans_mod['online_order'].astype('bool')"
   ]
  },
  {
   "cell_type": "code",
   "execution_count": null,
   "metadata": {},
   "outputs": [],
   "source": [
    "#formatting dtype\n",
    "trans_mod['transaction_year'] = trans_mod['transaction_date'].dt.year\n",
    "trans_mod['transaction_month'] = trans_mod['transaction_date'].dt.strftime('%B')\n",
    "trans_mod['transaction_day'] = trans_mod['transaction_date'].dt.day"
   ]
  },
  {
   "cell_type": "code",
   "execution_count": null,
   "metadata": {},
   "outputs": [],
   "source": [
    "#formatting dtype\n",
    "list_mod['DOB'] = list_mod['DOB'].astype('datetime64')\n",
    "list_mod['owns_car'] = list_mod['owns_car'].astype('bool')\n",
    "list_mod.info()"
   ]
  },
  {
   "cell_type": "code",
   "execution_count": null,
   "metadata": {},
   "outputs": [],
   "source": [
    "#formatting dtype\n",
    "demo_mod['DOB'] = demo_mod['DOB'].astype('datetime64')\n",
    "demo_mod['owns_car'] = demo_mod['owns_car'].astype('bool')\n",
    "demo_mod.info()"
   ]
  },
  {
   "cell_type": "markdown",
   "metadata": {},
   "source": [
    "grouping data"
   ]
  },
  {
   "cell_type": "code",
   "execution_count": null,
   "metadata": {},
   "outputs": [],
   "source": [
    "trans_mod['product_id'].unique()"
   ]
  },
  {
   "cell_type": "code",
   "execution_count": 257,
   "metadata": {},
   "outputs": [
    {
     "data": {
      "text/html": [
       "<div>\n",
       "<style scoped>\n",
       "    .dataframe tbody tr th:only-of-type {\n",
       "        vertical-align: middle;\n",
       "    }\n",
       "\n",
       "    .dataframe tbody tr th {\n",
       "        vertical-align: top;\n",
       "    }\n",
       "\n",
       "    .dataframe thead th {\n",
       "        text-align: right;\n",
       "    }\n",
       "</style>\n",
       "<table border=\"1\" class=\"dataframe\">\n",
       "  <thead>\n",
       "    <tr style=\"text-align: right;\">\n",
       "      <th></th>\n",
       "      <th>product_id</th>\n",
       "      <th>count</th>\n",
       "    </tr>\n",
       "  </thead>\n",
       "  <tbody>\n",
       "    <tr>\n",
       "      <th>0</th>\n",
       "      <td>0</td>\n",
       "      <td>1157</td>\n",
       "    </tr>\n",
       "    <tr>\n",
       "      <th>1</th>\n",
       "      <td>3</td>\n",
       "      <td>349</td>\n",
       "    </tr>\n",
       "    <tr>\n",
       "      <th>2</th>\n",
       "      <td>1</td>\n",
       "      <td>305</td>\n",
       "    </tr>\n",
       "    <tr>\n",
       "      <th>3</th>\n",
       "      <td>38</td>\n",
       "      <td>267</td>\n",
       "    </tr>\n",
       "    <tr>\n",
       "      <th>4</th>\n",
       "      <td>35</td>\n",
       "      <td>261</td>\n",
       "    </tr>\n",
       "    <tr>\n",
       "      <th>5</th>\n",
       "      <td>2</td>\n",
       "      <td>236</td>\n",
       "    </tr>\n",
       "    <tr>\n",
       "      <th>6</th>\n",
       "      <td>4</td>\n",
       "      <td>235</td>\n",
       "    </tr>\n",
       "    <tr>\n",
       "      <th>7</th>\n",
       "      <td>12</td>\n",
       "      <td>223</td>\n",
       "    </tr>\n",
       "    <tr>\n",
       "      <th>8</th>\n",
       "      <td>5</td>\n",
       "      <td>221</td>\n",
       "    </tr>\n",
       "    <tr>\n",
       "      <th>9</th>\n",
       "      <td>80</td>\n",
       "      <td>221</td>\n",
       "    </tr>\n",
       "    <tr>\n",
       "      <th>10</th>\n",
       "      <td>90</td>\n",
       "      <td>218</td>\n",
       "    </tr>\n",
       "    <tr>\n",
       "      <th>11</th>\n",
       "      <td>77</td>\n",
       "      <td>214</td>\n",
       "    </tr>\n",
       "    <tr>\n",
       "      <th>12</th>\n",
       "      <td>53</td>\n",
       "      <td>213</td>\n",
       "    </tr>\n",
       "    <tr>\n",
       "      <th>13</th>\n",
       "      <td>27</td>\n",
       "      <td>212</td>\n",
       "    </tr>\n",
       "    <tr>\n",
       "      <th>14</th>\n",
       "      <td>45</td>\n",
       "      <td>212</td>\n",
       "    </tr>\n",
       "    <tr>\n",
       "      <th>15</th>\n",
       "      <td>69</td>\n",
       "      <td>211</td>\n",
       "    </tr>\n",
       "    <tr>\n",
       "      <th>16</th>\n",
       "      <td>43</td>\n",
       "      <td>210</td>\n",
       "    </tr>\n",
       "    <tr>\n",
       "      <th>17</th>\n",
       "      <td>92</td>\n",
       "      <td>207</td>\n",
       "    </tr>\n",
       "    <tr>\n",
       "      <th>18</th>\n",
       "      <td>79</td>\n",
       "      <td>205</td>\n",
       "    </tr>\n",
       "    <tr>\n",
       "      <th>19</th>\n",
       "      <td>50</td>\n",
       "      <td>205</td>\n",
       "    </tr>\n",
       "  </tbody>\n",
       "</table>\n",
       "</div>"
      ],
      "text/plain": [
       "    product_id  count\n",
       "0            0   1157\n",
       "1            3    349\n",
       "2            1    305\n",
       "3           38    267\n",
       "4           35    261\n",
       "5            2    236\n",
       "6            4    235\n",
       "7           12    223\n",
       "8            5    221\n",
       "9           80    221\n",
       "10          90    218\n",
       "11          77    214\n",
       "12          53    213\n",
       "13          27    212\n",
       "14          45    212\n",
       "15          69    211\n",
       "16          43    210\n",
       "17          92    207\n",
       "18          79    205\n",
       "19          50    205"
      ]
     },
     "execution_count": 257,
     "metadata": {},
     "output_type": "execute_result"
    }
   ],
   "source": [
    "trans_mod.groupby('product_id')['count'].sum().sort_values(ascending=False).reset_index()[:20]\n"
   ]
  },
  {
   "cell_type": "code",
   "execution_count": 262,
   "metadata": {},
   "outputs": [],
   "source": [
    "#df of most purchased items\n",
    "trans_mod['count'] =1\n",
    "product_id_count = trans_mod.groupby('product_id')['count'].sum().sort_values(ascending=False).reset_index()[:20]\n",
    "product_id_count.rename(columns={'count':'transaction_count'})\n",
    "\n",
    "product_id_count.to_csv(pwd +'/grouped_data/product_id_count.csv')"
   ]
  },
  {
   "cell_type": "code",
   "execution_count": 265,
   "metadata": {},
   "outputs": [],
   "source": [
    "#df of months, grouped by # transaction in month\n",
    "trans_mod.groupby('transaction_month')['count'].sum().sort_values(ascending=False).reset_index()[:15]\n",
    "month_trans = trans_mod.groupby('transaction_month')['count'].sum().sort_values(ascending=False).reset_index()[:15]\n",
    "month_trans.rename(columns={'transaction_month': 'month','count':'transaction_count'})\n",
    "month_trans.to_csv(pwd +'/grouped_data/month_trans.csv')"
   ]
  },
  {
   "cell_type": "code",
   "execution_count": 268,
   "metadata": {},
   "outputs": [],
   "source": [
    "#df of days, grouped by # of transactions \n",
    "trans_mod.groupby('transaction_day')['count'].sum().sort_values(ascending=False).reset_index()\n",
    "trans_by_day = trans_mod.groupby('transaction_day')['count'].sum().sort_values(ascending=False).reset_index()\n",
    "trans_by_day.rename(columns={'transaction_day': 'day_of_month','count':'transaction_count'})\n",
    "trans_by_day.to_csv(pwd +'/grouped_data/trans_by_day.csv')"
   ]
  },
  {
   "cell_type": "code",
   "execution_count": 270,
   "metadata": {},
   "outputs": [],
   "source": [
    "#df of online orders\n",
    "trans_mod.groupby('online_order')['count'].sum().sort_values(ascending=False).reset_index()\n",
    "online_orders = trans_mod.groupby('online_order')['count'].sum().sort_values(ascending=False).reset_index()\n",
    "online_orders.to_csv(pwd +'/grouped_data/online_orders.csv')"
   ]
  },
  {
   "cell_type": "code",
   "execution_count": 273,
   "metadata": {},
   "outputs": [],
   "source": [
    "#df of brands by # of transactions\n",
    "trans_mod.groupby('brand')['count'].sum().sort_values(ascending=False).reset_index()\n",
    "bike_brands = trans_mod.groupby('brand')['count'].sum().sort_values(ascending=False).reset_index()\n",
    "bike_brands.rename(columns={'count':'transaction_count'})\n",
    "bike_brands.to_csv(pwd +'/grouped_data/bike_brands.csv')"
   ]
  },
  {
   "cell_type": "code",
   "execution_count": null,
   "metadata": {},
   "outputs": [],
   "source": [
    "\n",
    "list_mod.to_csv(pwd +'/list_mod.csv')\n",
    "adress.to_csv(pwd + '/adress.csv')\n",
    "demo_mod.to_csv(pwd + '/demo_mod.csv')\n",
    "trans_mod.to_csv(pwd + '/trans_mod.csv')\n",
    "product_id_count.to_csv(pwd + '/product_id_count.csv')\n"
   ]
  },
  {
   "cell_type": "code",
   "execution_count": null,
   "metadata": {},
   "outputs": [],
   "source": [
    "trans_month = trans_mod['transaction_month']\n",
    "trans_month.unique()"
   ]
  },
  {
   "cell_type": "code",
   "execution_count": 274,
   "metadata": {},
   "outputs": [
    {
     "data": {
      "text/html": [
       "<div>\n",
       "<style scoped>\n",
       "    .dataframe tbody tr th:only-of-type {\n",
       "        vertical-align: middle;\n",
       "    }\n",
       "\n",
       "    .dataframe tbody tr th {\n",
       "        vertical-align: top;\n",
       "    }\n",
       "\n",
       "    .dataframe thead th {\n",
       "        text-align: right;\n",
       "    }\n",
       "</style>\n",
       "<table border=\"1\" class=\"dataframe\">\n",
       "  <thead>\n",
       "    <tr style=\"text-align: right;\">\n",
       "      <th></th>\n",
       "      <th>transaction_month</th>\n",
       "      <th>count</th>\n",
       "    </tr>\n",
       "  </thead>\n",
       "  <tbody>\n",
       "    <tr>\n",
       "      <th>0</th>\n",
       "      <td>August</td>\n",
       "      <td>1746</td>\n",
       "    </tr>\n",
       "    <tr>\n",
       "      <th>1</th>\n",
       "      <td>October</td>\n",
       "      <td>1699</td>\n",
       "    </tr>\n",
       "    <tr>\n",
       "      <th>2</th>\n",
       "      <td>January</td>\n",
       "      <td>1645</td>\n",
       "    </tr>\n",
       "    <tr>\n",
       "      <th>3</th>\n",
       "      <td>November</td>\n",
       "      <td>1638</td>\n",
       "    </tr>\n",
       "    <tr>\n",
       "      <th>4</th>\n",
       "      <td>May</td>\n",
       "      <td>1637</td>\n",
       "    </tr>\n",
       "    <tr>\n",
       "      <th>5</th>\n",
       "      <td>July</td>\n",
       "      <td>1632</td>\n",
       "    </tr>\n",
       "    <tr>\n",
       "      <th>6</th>\n",
       "      <td>March</td>\n",
       "      <td>1603</td>\n",
       "    </tr>\n",
       "    <tr>\n",
       "      <th>7</th>\n",
       "      <td>December</td>\n",
       "      <td>1593</td>\n",
       "    </tr>\n",
       "    <tr>\n",
       "      <th>8</th>\n",
       "      <td>September</td>\n",
       "      <td>1578</td>\n",
       "    </tr>\n",
       "    <tr>\n",
       "      <th>9</th>\n",
       "      <td>February</td>\n",
       "      <td>1565</td>\n",
       "    </tr>\n",
       "    <tr>\n",
       "      <th>10</th>\n",
       "      <td>April</td>\n",
       "      <td>1563</td>\n",
       "    </tr>\n",
       "    <tr>\n",
       "      <th>11</th>\n",
       "      <td>June</td>\n",
       "      <td>1546</td>\n",
       "    </tr>\n",
       "  </tbody>\n",
       "</table>\n",
       "</div>"
      ],
      "text/plain": [
       "   transaction_month  count\n",
       "0             August   1746\n",
       "1            October   1699\n",
       "2            January   1645\n",
       "3           November   1638\n",
       "4                May   1637\n",
       "5               July   1632\n",
       "6              March   1603\n",
       "7           December   1593\n",
       "8          September   1578\n",
       "9           February   1565\n",
       "10             April   1563\n",
       "11              June   1546"
      ]
     },
     "execution_count": 274,
     "metadata": {},
     "output_type": "execute_result"
    }
   ],
   "source": [
    "trans_mod['count']=1 #helper column\n",
    "trans_mod.groupby('transaction_month')['count'].sum().sort_values(ascending=False).reset_index()[:15]"
   ]
  },
  {
   "cell_type": "code",
   "execution_count": null,
   "metadata": {},
   "outputs": [],
   "source": [
    "adress['count']=1"
   ]
  },
  {
   "cell_type": "code",
   "execution_count": null,
   "metadata": {},
   "outputs": [],
   "source": [
    "adress"
   ]
  },
  {
   "cell_type": "code",
   "execution_count": 282,
   "metadata": {},
   "outputs": [],
   "source": [
    "#Avg property valuation \n",
    "adress.property_valuation.describe().reset_index()\n",
    "property_valuation = adress.property_valuation.describe().reset_index()\n",
    "property_valuation.to_csv(pwd +'/grouped_data/property_valuation.csv')"
   ]
  },
  {
   "cell_type": "code",
   "execution_count": null,
   "metadata": {},
   "outputs": [],
   "source": [
    "adress.state.replace({'Victoria': 'VIC'}, inplace=True)"
   ]
  },
  {
   "cell_type": "code",
   "execution_count": null,
   "metadata": {},
   "outputs": [],
   "source": [
    "adress.state.unique()"
   ]
  },
  {
   "cell_type": "code",
   "execution_count": 285,
   "metadata": {},
   "outputs": [],
   "source": [
    "#top state of customers\n",
    "adress['count']=1 #helper column\n",
    "adress.groupby('state')['count'].sum().sort_values(ascending=False).reset_index()[:15]\n",
    "customer_state_count = adress.groupby('state')['count'].sum().sort_values(ascending=False).reset_index()[:15]\n",
    "customer_state_count.to_csv(pwd +'/grouped_data/customer_state_count.csv')"
   ]
  },
  {
   "cell_type": "code",
   "execution_count": null,
   "metadata": {},
   "outputs": [],
   "source": [
    "demo_mod.gender.unique()"
   ]
  },
  {
   "cell_type": "code",
   "execution_count": 290,
   "metadata": {},
   "outputs": [],
   "source": [
    "demo_mod['count']=1\n",
    "demo_mod.gender.replace({'F':'Female', 'M':'Male', 'Femal':'Female'}, inplace=True)\n",
    "demo_mod.groupby('gender')['count'].sum().sort_values(ascending=False).reset_index()\n",
    "M_F_split = demo_mod.groupby('gender')['count'].sum().sort_values(ascending=False).reset_index()\n",
    "M_F_split.to_csv(pwd +'/grouped_data/M_F_split.csv')"
   ]
  },
  {
   "cell_type": "code",
   "execution_count": 291,
   "metadata": {},
   "outputs": [
    {
     "data": {
      "text/html": [
       "<div>\n",
       "<style scoped>\n",
       "    .dataframe tbody tr th:only-of-type {\n",
       "        vertical-align: middle;\n",
       "    }\n",
       "\n",
       "    .dataframe tbody tr th {\n",
       "        vertical-align: top;\n",
       "    }\n",
       "\n",
       "    .dataframe thead th {\n",
       "        text-align: right;\n",
       "    }\n",
       "</style>\n",
       "<table border=\"1\" class=\"dataframe\">\n",
       "  <thead>\n",
       "    <tr style=\"text-align: right;\">\n",
       "      <th></th>\n",
       "      <th>index</th>\n",
       "      <th>past_3_years_bike_related_purchases</th>\n",
       "    </tr>\n",
       "  </thead>\n",
       "  <tbody>\n",
       "    <tr>\n",
       "      <th>0</th>\n",
       "      <td>count</td>\n",
       "      <td>1839.000000</td>\n",
       "    </tr>\n",
       "    <tr>\n",
       "      <th>1</th>\n",
       "      <td>mean</td>\n",
       "      <td>49.311039</td>\n",
       "    </tr>\n",
       "    <tr>\n",
       "      <th>2</th>\n",
       "      <td>std</td>\n",
       "      <td>29.025580</td>\n",
       "    </tr>\n",
       "    <tr>\n",
       "      <th>3</th>\n",
       "      <td>min</td>\n",
       "      <td>0.000000</td>\n",
       "    </tr>\n",
       "    <tr>\n",
       "      <th>4</th>\n",
       "      <td>25%</td>\n",
       "      <td>24.000000</td>\n",
       "    </tr>\n",
       "    <tr>\n",
       "      <th>5</th>\n",
       "      <td>50%</td>\n",
       "      <td>49.000000</td>\n",
       "    </tr>\n",
       "    <tr>\n",
       "      <th>6</th>\n",
       "      <td>75%</td>\n",
       "      <td>74.000000</td>\n",
       "    </tr>\n",
       "    <tr>\n",
       "      <th>7</th>\n",
       "      <td>max</td>\n",
       "      <td>99.000000</td>\n",
       "    </tr>\n",
       "  </tbody>\n",
       "</table>\n",
       "</div>"
      ],
      "text/plain": [
       "   index  past_3_years_bike_related_purchases\n",
       "0  count                          1839.000000\n",
       "1   mean                            49.311039\n",
       "2    std                            29.025580\n",
       "3    min                             0.000000\n",
       "4    25%                            24.000000\n",
       "5    50%                            49.000000\n",
       "6    75%                            74.000000\n",
       "7    max                            99.000000"
      ]
     },
     "execution_count": 291,
     "metadata": {},
     "output_type": "execute_result"
    }
   ],
   "source": [
    "demo_mod.past_3_years_bike_related_purchases.describe().reset_index()\n",
    "past_3_years = "
   ]
  },
  {
   "cell_type": "code",
   "execution_count": null,
   "metadata": {},
   "outputs": [],
   "source": [
    "demo_mod"
   ]
  },
  {
   "cell_type": "markdown",
   "metadata": {},
   "source": []
  },
  {
   "cell_type": "code",
   "execution_count": null,
   "metadata": {},
   "outputs": [],
   "source": [
    "\n",
    "demo_mod['DOB_year'] = demo_mod['DOB'].dt.year\n",
    "demo_mod['DOB_month'] = demo_mod['DOB'].dt.month\n",
    "demo_mod['DOB_day'] = demo_mod['DOB'].dt.day"
   ]
  },
  {
   "cell_type": "code",
   "execution_count": null,
   "metadata": {},
   "outputs": [],
   "source": [
    "now = pd.Timestamp('now')\n",
    "demo_mod['DOB'] = pd.to_datetime(demo_mod['DOB'], format='%m%d%y') \n",
    "\n",
    "demo_mod['DOB'] = demo_mod['DOB'].where(demo_mod['DOB'] < now, demo_mod['DOB'] -  np.timedelta64(100, 'Y'))   \n",
    "demo_mod['age'] = (now - demo_mod['DOB']).astype('<m8[Y]') \n",
    "\n",
    "demo_mod.age.describe()"
   ]
  },
  {
   "cell_type": "code",
   "execution_count": null,
   "metadata": {},
   "outputs": [],
   "source": [
    "#age stats\n",
    "demo_mod.age.describe()\n",
    "demo_mod.groupby('age')['count'].sum().sort_values(ascending=False).reset_index()"
   ]
  },
  {
   "cell_type": "code",
   "execution_count": null,
   "metadata": {},
   "outputs": [],
   "source": [
    "#job industry split\n",
    "demo_mod.groupby('job_industry_category')['count'].sum().sort_values(ascending=False).reset_index()"
   ]
  },
  {
   "cell_type": "code",
   "execution_count": null,
   "metadata": {},
   "outputs": [],
   "source": [
    "demo_mod.groupby('owns_car')['count'].sum().sort_values(ascending=False).reset_index()"
   ]
  }
 ],
 "metadata": {
  "interpreter": {
   "hash": "99cd2e7fff1b3bd5c3112b7b8c5de36985c1de1bb5962735ca2ef761351602ae"
  },
  "kernelspec": {
   "display_name": "Python 3.9.7 64-bit ('tf': conda)",
   "language": "python",
   "name": "python3"
  },
  "language_info": {
   "codemirror_mode": {
    "name": "ipython",
    "version": 3
   },
   "file_extension": ".py",
   "mimetype": "text/x-python",
   "name": "python",
   "nbconvert_exporter": "python",
   "pygments_lexer": "ipython3",
   "version": "3.9.7"
  },
  "orig_nbformat": 4
 },
 "nbformat": 4,
 "nbformat_minor": 2
}
